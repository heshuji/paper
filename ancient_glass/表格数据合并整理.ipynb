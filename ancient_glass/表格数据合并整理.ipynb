{
 "cells": [
  {
   "cell_type": "code",
   "execution_count": 1,
   "metadata": {},
   "outputs": [],
   "source": [
    "import pandas as pd # 引入pd  模块\n"
   ]
  },
  {
   "cell_type": "code",
   "execution_count": 14,
   "metadata": {},
   "outputs": [],
   "source": [
    "df1=pd.read_excel(\"./附件.xlsx\",sheet_name=\"表单1\") # 导入表格\n",
    "df2=pd.read_excel(\"./附件.xlsx\",sheet_name=\"表单2\") # 导入表格\n",
    "df2=df2.fillna(value=0) # 填充  空值"
   ]
  },
  {
   "cell_type": "code",
   "execution_count": 15,
   "metadata": {},
   "outputs": [],
   "source": [
    "\n",
    "for i in range(len(df2)): # 小小for  循环表格拼接\n",
    "\n",
    "    bianhao2=int(df2[\"文物采样点\"][i][0:2])\n",
    "    for j in range(len(df1)):\n",
    "        bianhao1=int(df1[\"文物编号\"][j])\n",
    "        \n",
    "        if bianhao2==bianhao1:\n",
    "            df2.loc[i,\"表面风化\"]=df1[\"表面风化\"][j]\n",
    "            df2.loc[i,\"纹饰\"]=df1[\"纹饰\"][j]\n",
    "            df2.loc[i,\"类型\"]=df1[\"类型\"][j]\n",
    "            df2.loc[i,\"颜色\"]=df1[\"颜色\"][j]\n",
    "\n"
   ]
  },
  {
   "cell_type": "code",
   "execution_count": 16,
   "metadata": {},
   "outputs": [],
   "source": [
    "# # 独热编码 \n",
    "# from sklearn.preprocessing import LabelEncoder\n",
    "# class_le = LabelEncoder()\n",
    "# df2.loc[:,\"表面风化D\"] = class_le.fit_transform(df2['表面风化'].values)\n",
    "# df2.loc[:,\"纹饰D\"] = class_le.fit_transform(df2['纹饰'].values)\n",
    "# df2.loc[:,\"类型D\"] = class_le.fit_transform(df2['类型'].values)\n",
    "# df2.loc[:,\"颜色D\"] = class_le.fit_transform(df2['颜色'].values)"
   ]
  },
  {
   "cell_type": "code",
   "execution_count": 11,
   "metadata": {},
   "outputs": [],
   "source": [
    "df2.to_excel('合并表格1.xlsx',index=False)"
   ]
  }
 ],
 "metadata": {
  "kernelspec": {
   "display_name": "Python 3",
   "language": "python",
   "name": "python3"
  },
  "language_info": {
   "codemirror_mode": {
    "name": "ipython",
    "version": 3
   },
   "file_extension": ".py",
   "mimetype": "text/x-python",
   "name": "python",
   "nbconvert_exporter": "python",
   "pygments_lexer": "ipython3",
   "version": "3.11.1 (tags/v3.11.1:a7a450f, Dec  6 2022, 19:58:39) [MSC v.1934 64 bit (AMD64)]"
  },
  "orig_nbformat": 4,
  "vscode": {
   "interpreter": {
    "hash": "ff4b1fca65a764b45acb559e482afe389d289dd599b9f8c5fd12ff5c2ea46a65"
   }
  }
 },
 "nbformat": 4,
 "nbformat_minor": 2
}
