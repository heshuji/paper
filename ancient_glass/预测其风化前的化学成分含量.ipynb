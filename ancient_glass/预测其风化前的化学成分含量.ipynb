{
 "cells": [
  {
   "cell_type": "code",
   "execution_count": 10,
   "metadata": {},
   "outputs": [],
   "source": [
    "import pandas as pd # 引入pd  模块"
   ]
  },
  {
   "cell_type": "code",
   "execution_count": 8,
   "metadata": {},
   "outputs": [],
   "source": [
    "df1=pd.read_excel(\"./高钾_风化.xlsx\").iloc[:,1:15] # 导入高钾_风化表格\n",
    "df2=pd.read_excel(\"./高钾_无风化.xlsx\").iloc[:,1:15] # 导入表格\n",
    "df3=pd.read_excel(\"./铅钡_风化.xlsx\").iloc[:,1:15] # 导入表格\n",
    "df4=pd.read_excel(\"./铅钡_无风化.xlsx\").iloc[:,1:15] # 导入表格\n"
   ]
  },
  {
   "cell_type": "code",
   "execution_count": 9,
   "metadata": {},
   "outputs": [],
   "source": [
    "\n",
    "k1=df1.mean()/df2.mean()\n",
    "k2=df3.mean()/df4.mean()\n",
    "(df1/k1).to_excel(\"高钾_预测无风化.xlsx\",index=False)\n",
    "(df3/k2).to_excel(\"铅钡_预测无风化.xlsx\",index=False)"
   ]
  },
  {
   "cell_type": "code",
   "execution_count": 17,
   "metadata": {},
   "outputs": [],
   "source": []
  }
 ],
 "metadata": {
  "kernelspec": {
   "display_name": "Python 3",
   "language": "python",
   "name": "python3"
  },
  "language_info": {
   "codemirror_mode": {
    "name": "ipython",
    "version": 3
   },
   "file_extension": ".py",
   "mimetype": "text/x-python",
   "name": "python",
   "nbconvert_exporter": "python",
   "pygments_lexer": "ipython3",
   "version": "3.11.1 (tags/v3.11.1:a7a450f, Dec  6 2022, 19:58:39) [MSC v.1934 64 bit (AMD64)]"
  },
  "orig_nbformat": 4,
  "vscode": {
   "interpreter": {
    "hash": "ff4b1fca65a764b45acb559e482afe389d289dd599b9f8c5fd12ff5c2ea46a65"
   }
  }
 },
 "nbformat": 4,
 "nbformat_minor": 2
}
